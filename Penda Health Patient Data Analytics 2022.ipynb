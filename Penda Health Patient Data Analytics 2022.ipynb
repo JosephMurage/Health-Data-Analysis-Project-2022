{
 "cells": [
  {
   "cell_type": "code",
   "execution_count": 51,
   "id": "7f3a58e5",
   "metadata": {},
   "outputs": [
    {
     "name": "stdout",
     "output_type": "stream",
     "text": [
      "Requirement already satisfied: pandas in c:\\users\\josep\\anaconda3\\lib\\site-packages (1.4.2)\n",
      "Requirement already satisfied: openpyxl in c:\\users\\josep\\anaconda3\\lib\\site-packages (3.0.9)\n",
      "Requirement already satisfied: numpy>=1.18.5 in c:\\users\\josep\\anaconda3\\lib\\site-packages (from pandas) (1.21.5)\n",
      "Requirement already satisfied: python-dateutil>=2.8.1 in c:\\users\\josep\\anaconda3\\lib\\site-packages (from pandas) (2.8.2)\n",
      "Requirement already satisfied: pytz>=2020.1 in c:\\users\\josep\\anaconda3\\lib\\site-packages (from pandas) (2021.3)\n",
      "Requirement already satisfied: et-xmlfile in c:\\users\\josep\\anaconda3\\lib\\site-packages (from openpyxl) (1.1.0)\n",
      "Requirement already satisfied: six>=1.5 in c:\\users\\josep\\anaconda3\\lib\\site-packages (from python-dateutil>=2.8.1->pandas) (1.16.0)\n",
      "Collecting prettytable\n",
      "  Downloading prettytable-3.8.0-py3-none-any.whl (27 kB)\n",
      "Requirement already satisfied: wcwidth in c:\\users\\josep\\anaconda3\\lib\\site-packages (from prettytable) (0.2.5)\n",
      "Installing collected packages: prettytable\n",
      "Successfully installed prettytable-3.8.0\n"
     ]
    }
   ],
   "source": [
    "!pip install pandas openpyxl\n",
    "!pip install prettytable"
   ]
  },
  {
   "cell_type": "code",
   "execution_count": 53,
   "id": "1d3f1e9c",
   "metadata": {},
   "outputs": [],
   "source": [
    "import pandas as pd\n",
    "import numpy as np\n",
    "import matplotlib.pyplot as plt\n",
    "from tabulate import tabulate\n",
    "from prettytable import PrettyTable"
   ]
  },
  {
   "cell_type": "code",
   "execution_count": 43,
   "id": "dfab580d",
   "metadata": {},
   "outputs": [
    {
     "name": "stdout",
     "output_type": "stream",
     "text": [
      "<class 'pandas.core.frame.DataFrame'>\n",
      "RangeIndex: 45226 entries, 0 to 45225\n",
      "Data columns (total 7 columns):\n",
      " #   Column         Non-Null Count  Dtype         \n",
      "---  ------         --------------  -----         \n",
      " 0   VisitCode      45226 non-null  object        \n",
      " 1   PatientCode    45226 non-null  object        \n",
      " 2   VisitDateTime  45226 non-null  datetime64[ns]\n",
      " 3   MedicalCenter  45226 non-null  object        \n",
      " 4   VisitCategory  45226 non-null  object        \n",
      " 5   Payor          45226 non-null  object        \n",
      " 6   NPS Score      1928 non-null   float64       \n",
      "dtypes: datetime64[ns](1), float64(1), object(5)\n",
      "memory usage: 2.4+ MB\n"
     ]
    }
   ],
   "source": [
    "\n",
    "df = pd.read_excel(\"C:\\\\Users\\\\josep\\\\Downloads\\\\BI_Analyst_Assessment_Data_2023 (1).xlsx\",sheet_name=0)\n",
    "df.info()"
   ]
  },
  {
   "cell_type": "code",
   "execution_count": 7,
   "id": "13d2481b",
   "metadata": {},
   "outputs": [],
   "source": [
    "# Reading the Invoice Tbl into a DataFrame\n",
    "df_invoice = pd.read_excel(\"C:\\\\Users\\\\josep\\\\Downloads\\\\BI_Analyst_Assessment_Data_2023.xlsx\", sheet_name='Invoice Tbl')\n",
    "\n",
    "# Applying the manipulation to the Amount column based on the payor\n",
    "df_invoice['Amount'] = df_invoice['Amount'].apply(lambda x: max(x, 100))\n",
    "# Writing the manipulated data back to the Excel file\n",
    "df_invoice.to_excel('C:\\\\Users\\\\josep\\\\Downloads\\\\BI_Analyst_Assessment_Data_2023.xlsx', sheet_name='Invoice Tbl', index=False)\n"
   ]
  },
  {
   "cell_type": "code",
   "execution_count": 59,
   "id": "f6138d12",
   "metadata": {},
   "outputs": [
    {
     "name": "stdout",
     "output_type": "stream",
     "text": [
      "Number of visits at Kimathi Street and Pipeline medical centers between May 2022 and September 2022: 8204\n",
      "+------------------+--------------------+\n",
      "| Medical Center   |   Number of Visits |\n",
      "+==================+====================+\n",
      "| Kimathi Street   |               2161 |\n",
      "+------------------+--------------------+\n",
      "| Pipeline         |               6043 |\n",
      "+------------------+--------------------+\n",
      "| Total visits     |               8204 |\n",
      "+------------------+--------------------+\n"
     ]
    }
   ],
   "source": [
    "\n",
    "from prettytable import PrettyTable\n",
    "\n",
    "# Read the Visit Tbl sheet into a DataFrame\n",
    "df_visits = pd.read_excel(\"C:\\\\Users\\\\josep\\\\Downloads\\\\BI_Analyst_Assessment_Data_2023 (1).xlsx\", sheet_name='Visit Tbl')\n",
    "\n",
    "# Filter the DataFrame for visits at Kimathi Street and Pipeline medical centers\n",
    "filtered_visits = df_visits[(df_visits['MedicalCenter'] == 'Kimathi Street') | (df_visits['MedicalCenter'] == 'Pipeline')]\n",
    "\n",
    "# Filter the DataFrame for visits between May 2022 and September 2022\n",
    "filtered_visits = filtered_visits[(filtered_visits['VisitDateTime'] >= '05/01/22 0:00') & (filtered_visits['VisitDateTime'] <= '09/30/22 23:59')]\n",
    "\n",
    "# Get the number of visits\n",
    "num_visits = len(filtered_visits)\n",
    "\n",
    "# Get the number of visits at Kimathi Street\n",
    "num_visits_ks = len(filtered_visits[filtered_visits['MedicalCenter'] == 'Kimathi Street'])\n",
    "\n",
    "# Get the number of visits at Pipeline medical center\n",
    "num_visits_pipeline = len(filtered_visits[filtered_visits['MedicalCenter'] == 'Pipeline'])\n",
    "\n",
    "# Calculate the total visits\n",
    "total_visits = num_visits_ks + num_visits_pipeline\n",
    "\n",
    "# Print the number of visits\n",
    "print(\"Number of visits at Kimathi Street and Pipeline medical centers between May 2022 and September 2022:\", num_visits)\n",
    "\n",
    "# create table\n",
    "table = PrettyTable()\n",
    "table.field_names = ['Medical Center', 'Number of Visits']\n",
    "table.add_row = (['Kimathi Street', num_visits_ks])\n",
    "table.add_row = (['Pipeline', num_visits_pipeline])\n",
    "table.add_row = (['Total Visits', total_visits])\n",
    "\n",
    "#table style\n",
    "table.align ['Medical Center'] = '1'\n",
    "table.align ['Number of Visits'] = 'r'\n",
    "table.border = True\n",
    "\n",
    "# Table headers\n",
    "headers = ['Medical Center', 'Number of Visits']\n",
    "\n",
    "# Create the table\n",
    "table = tabulate(visits_data, headers, tablefmt='grid')\n",
    "# Display the table\n",
    "print(table)"
   ]
  },
  {
   "cell_type": "code",
   "execution_count": 16,
   "id": "41350584",
   "metadata": {},
   "outputs": [
    {
     "name": "stdout",
     "output_type": "stream",
     "text": [
      "Most common diagnosis in 2022 for Tassia and Embakasi branches combined: acute nasopharyngitis\n"
     ]
    }
   ],
   "source": [
    "\n",
    "# Read the Visit Tbl sheet into a DataFrame\n",
    "df_visits = pd.read_excel(\"C:\\\\Users\\\\josep\\\\Downloads\\\\BI_Analyst_Assessment_Data_2023 (1).xlsx\", sheet_name='Visit Tbl')\n",
    "\n",
    "# Filter the DataFrame for visits at Tassia and Embakasi branches\n",
    "filtered_visits = df_visits[(df_visits['MedicalCenter'] == 'Tassia') | (df_visits['MedicalCenter'] == 'Embakasi')]\n",
    "\n",
    "# Read the Diagnosis Tbl sheet into a DataFrame\n",
    "df_diagnosis = pd.read_excel(\"C:\\\\Users\\\\josep\\\\Downloads\\\\BI_Analyst_Assessment_Data_2023 (1).xlsx\", sheet_name='Diagnosis Tbl')\n",
    "\n",
    "# Merge the filtered_visits DataFrame with the df_diagnosis DataFrame based on VisitCode\n",
    "filtered_visits = pd.merge(filtered_visits, df_diagnosis[['VisitCode', 'Diagnosis']], on='VisitCode', how='left')\n",
    "\n",
    "# Filter the DataFrame for visits in 2022\n",
    "filtered_visits = filtered_visits[(filtered_visits['VisitDateTime'].dt.year == 2022)]\n",
    "\n",
    "# Group by Diagnosis and count occurrences\n",
    "diagnosis_counts = filtered_visits['Diagnosis'].value_counts()\n",
    "\n",
    "# Get the most common diagnosis\n",
    "most_common_diagnosis = diagnosis_counts.index[0]\n",
    "\n",
    "# Print the most common diagnosis\n",
    "print(\"Most common diagnosis in 2022 for Tassia and Embakasi branches combined:\", most_common_diagnosis)\n"
   ]
  },
  {
   "cell_type": "code",
   "execution_count": 17,
   "id": "d4267f96",
   "metadata": {},
   "outputs": [
    {
     "name": "stdout",
     "output_type": "stream",
     "text": [
      "The most profitable payor for Penda Health in 2022 is: Cash\n"
     ]
    }
   ],
   "source": [
    "\n",
    "# Read the Visit Tbl sheet into a DataFrame\n",
    "df_visits = pd.read_excel(\"C:\\\\Users\\\\josep\\\\Downloads\\\\BI_Analyst_Assessment_Data_2023 (1).xlsx\", sheet_name='Visit Tbl')\n",
    "\n",
    "# Read the Invoice Tbl sheet into a DataFrame\n",
    "df_invoices = pd.read_excel(\"C:\\\\Users\\\\josep\\\\Downloads\\\\BI_Analyst_Assessment_Data_2023 (1).xlsx\", sheet_name='Invoice Tbl')\n",
    "\n",
    "# Merge the Visit Tbl and Invoice Tbl based on VisitCode\n",
    "merged_df = pd.merge(df_visits, df_invoices[['VisitCode', 'Amount']], on='VisitCode', how='left')\n",
    "\n",
    "# Filter the merged DataFrame for visits in 2022\n",
    "filtered_visits = merged_df[(merged_df['VisitDateTime'].dt.year == 2022)]\n",
    "\n",
    "# Calculate the profit for each payor\n",
    "filtered_visits['Profit'] = filtered_visits['Amount'] * 0.3\n",
    "\n",
    "# Group by Payor and sum the profits\n",
    "profit_by_payor = filtered_visits.groupby('Payor')['Profit'].sum()\n",
    "\n",
    "# Find the most profitable payor\n",
    "most_profitable_payor = profit_by_payor.idxmax()\n",
    "\n",
    "# Print the most profitable payor\n",
    "print(\"The most profitable payor for Penda Health in 2022 is:\", most_profitable_payor)\n"
   ]
  },
  {
   "cell_type": "code",
   "execution_count": 18,
   "id": "95ea3b22",
   "metadata": {},
   "outputs": [
    {
     "name": "stdout",
     "output_type": "stream",
     "text": [
      "The least profitable payor for Penda Health in 2022 is: Insurance Company A\n"
     ]
    }
   ],
   "source": [
    "\n",
    "# Read the Visit Tbl sheet into a DataFrame\n",
    "df_visits = pd.read_excel(\"C:\\\\Users\\\\josep\\\\Downloads\\\\BI_Analyst_Assessment_Data_2023 (1).xlsx\", sheet_name='Visit Tbl')\n",
    "\n",
    "# Read the Invoice Tbl sheet into a DataFrame\n",
    "df_invoices = pd.read_excel(\"C:\\\\Users\\\\josep\\\\Downloads\\\\BI_Analyst_Assessment_Data_2023 (1).xlsx\", sheet_name='Invoice Tbl')\n",
    "\n",
    "# Merge the Visit Tbl and Invoice Tbl based on VisitCode\n",
    "merged_df = pd.merge(df_visits, df_invoices[['VisitCode', 'Amount']], on='VisitCode', how='left')\n",
    "\n",
    "# Filter the merged DataFrame for visits in 2022\n",
    "filtered_visits = merged_df[(merged_df['VisitDateTime'].dt.year == 2022)]\n",
    "\n",
    "# Calculate the profit for each payor\n",
    "filtered_visits['Profit'] = filtered_visits['Amount'] * 0.3\n",
    "\n",
    "# Group by Payor and sum the profits\n",
    "profit_by_payor = filtered_visits.groupby('Payor')['Profit'].sum()\n",
    "\n",
    "# Find the most profitable payor\n",
    "least_profitable_payor = profit_by_payor.idxmin()\n",
    "\n",
    "# Print the most profitable payor\n",
    "print(\"The least profitable payor for Penda Health in 2022 is:\", least_profitable_payor)\n"
   ]
  },
  {
   "cell_type": "code",
   "execution_count": 23,
   "id": "348c504b",
   "metadata": {},
   "outputs": [
    {
     "name": "stdout",
     "output_type": "stream",
     "text": [
      "The average spend per visit for visits with a diagnosis of acute gastritis is: 2778.621219887237\n"
     ]
    }
   ],
   "source": [
    "import pandas as pd\n",
    "\n",
    "# Read the Visit Tbl sheet into a DataFrame\n",
    "df_visits = pd.read_excel(\"C:\\\\Users\\\\josep\\\\Downloads\\\\BI_Analyst_Assessment_Data_2023 (1).xlsx\", sheet_name='Visit Tbl')\n",
    "\n",
    "# Read the Invoice Tbl sheet into a DataFrame\n",
    "df_invoices = pd.read_excel(\"C:\\\\Users\\\\josep\\\\Downloads\\\\BI_Analyst_Assessment_Data_2023 (1).xlsx\", sheet_name='Invoice Tbl')\n",
    "\n",
    "# Read the Diagnosis Tbl sheet into a DataFrame\n",
    "df_diagnosis = pd.read_excel(\"C:\\\\Users\\\\josep\\\\Downloads\\\\BI_Analyst_Assessment_Data_2023 (1).xlsx\", sheet_name='Diagnosis Tbl')\n",
    "\n",
    "# Merge the Visit Tbl and Invoice Tbl based on VisitCode\n",
    "merged_df = pd.merge(df_visits, df_invoices[['VisitCode', 'Amount']], on='VisitCode', how='left')\n",
    "\n",
    "# Merge the merged DataFrame with the Diagnosis Tbl based on VisitCode\n",
    "merged_df = pd.merge(merged_df, df_diagnosis[['VisitCode', 'Diagnosis']], on='VisitCode', how='left')\n",
    "\n",
    "# Filter the DataFrame for visits with a diagnosis of acute gastritis\n",
    "filtered_visits = merged_df[merged_df['Diagnosis'] == 'acute gastritis']\n",
    "\n",
    "# Calculate the average spend per visit\n",
    "average_spend_per_visit = filtered_visits['Amount'].mean()\n",
    "\n",
    "# Print the average spend per visit\n",
    "print(\"The average spend per visit for visits with a diagnosis of acute gastritis is:\", average_spend_per_visit)\n"
   ]
  },
  {
   "cell_type": "code",
   "execution_count": 24,
   "id": "f9fcad64",
   "metadata": {},
   "outputs": [
    {
     "name": "stdout",
     "output_type": "stream",
     "text": [
      "The number of unique patients who experienced a blended healthcare approach in 2022 is: 284\n"
     ]
    }
   ],
   "source": [
    "\n",
    "# Read the Visit Tbl sheet into a DataFrame\n",
    "df_visits = pd.read_excel(\"C:\\\\Users\\\\josep\\\\Downloads\\\\BI_Analyst_Assessment_Data_2023 (1).xlsx\", sheet_name='Visit Tbl')\n",
    "\n",
    "# Filter the DataFrame for visits in 2022\n",
    "filtered_visits = df_visits[df_visits['VisitDateTime'].dt.year == 2022]\n",
    "\n",
    "# Group by PatientCode and count unique patients with a blended healthcare approach\n",
    "blended_patients = filtered_visits.groupby('PatientCode')['VisitCategory'].nunique()\n",
    "\n",
    "# Count the number of unique patients with a blended healthcare approach\n",
    "num_blended_patients = len(blended_patients[blended_patients > 1])\n",
    "\n",
    "# Print the number of unique patients with a blended healthcare approach\n",
    "print(\"The number of unique patients who experienced a blended healthcare approach in 2022 is:\", num_blended_patients)\n"
   ]
  },
  {
   "cell_type": "code",
   "execution_count": 27,
   "id": "02571646",
   "metadata": {},
   "outputs": [
    {
     "name": "stdout",
     "output_type": "stream",
     "text": [
      "The Net Promoter Score (NPS) in Q3 2022 is: 8.932203389830509\n"
     ]
    }
   ],
   "source": [
    "\n",
    "# Read the Visit Tbl sheet into a DataFrame\n",
    "df_visits = pd.read_excel(\"C:\\\\Users\\\\josep\\\\Downloads\\\\BI_Analyst_Assessment_Data_2023 (1).xlsx\", sheet_name='Visit Tbl')\n",
    "\n",
    "# Filter the DataFrame for visits in Q3 2022\n",
    "filtered_visits = df_visits[(df_visits['VisitDateTime'].dt.year == 2022) & (df_visits['VisitDateTime'].dt.quarter == 3)]\n",
    "\n",
    "# Remove rows with missing values in 'NPS Score' column\n",
    "filtered_visits = filtered_visits.dropna(subset=['NPS Score'])\n",
    "\n",
    "# Calculate the NPS\n",
    "nps_score = filtered_visits['NPS Score'].mean()\n",
    "\n",
    "# Print the NPS\n",
    "print(\"The Net Promoter Score (NPS) in Q3 2022 is:\", nps_score)\n"
   ]
  },
  {
   "cell_type": "code",
   "execution_count": 31,
   "id": "6ef6ac7f",
   "metadata": {},
   "outputs": [
    {
     "name": "stdout",
     "output_type": "stream",
     "text": [
      "The proportion of second visits in Penda Health in 2022 is: 29.289836711711715 %\n"
     ]
    }
   ],
   "source": [
    "\n",
    "# Read the Visit Tbl sheet into a DataFrame\n",
    "df_visits = pd.read_excel(\"C:\\\\Users\\\\josep\\\\Downloads\\\\BI_Analyst_Assessment_Data_2023 (1).xlsx\", sheet_name='Visit Tbl')\n",
    "\n",
    "# Filter the DataFrame for visits in 2022\n",
    "filtered_visits = df_visits[df_visits['VisitDateTime'].dt.year == 2022]\n",
    "\n",
    "# Count the number of visits per patient\n",
    "visit_counts = filtered_visits['PatientCode'].value_counts()\n",
    "\n",
    "# Count the number of patients with more than one visit\n",
    "num_second_visits = (visit_counts > 1).sum()\n",
    "\n",
    "# Calculate the proportion of second visits\n",
    "proportion_second_visits = num_second_visits / len(visit_counts) *100\n",
    "\n",
    "# Print the proportion of second visits\n",
    "print(\"The proportion of second visits in Penda Health in 2022 is:\", proportion_second_visits, \"%\")\n"
   ]
  },
  {
   "cell_type": "code",
   "execution_count": 32,
   "id": "f38618fc",
   "metadata": {},
   "outputs": [
    {
     "name": "stdout",
     "output_type": "stream",
     "text": [
      "The percentage of visits in April 2022 within 30 days of the preceding visit by the same patient is: 16.010916534000454 %\n"
     ]
    }
   ],
   "source": [
    "import pandas as pd\n",
    "\n",
    "# Read the Visit Tbl sheet into a DataFrame\n",
    "df_visits = pd.read_excel(\"C:\\\\Users\\\\josep\\\\Downloads\\\\BI_Analyst_Assessment_Data_2023 (1).xlsx\", sheet_name='Visit Tbl')\n",
    "\n",
    "# Filter the DataFrame for visits in April 2022\n",
    "filtered_visits = df_visits[df_visits['VisitDateTime'].dt.to_period('M') == pd.Period('2022-04')]\n",
    "\n",
    "# Sort the DataFrame by patient and visit date\n",
    "sorted_visits = filtered_visits.sort_values(['PatientCode', 'VisitDateTime'])\n",
    "\n",
    "# Calculate the time difference between consecutive visits for each patient\n",
    "sorted_visits['TimeDifference'] = sorted_visits.groupby('PatientCode')['VisitDateTime'].diff().dt.days\n",
    "\n",
    "# Count the number of visits within 30 days of the preceding visit\n",
    "num_within_30_days = (sorted_visits['TimeDifference'] <= 30).sum()\n",
    "\n",
    "# Calculate the percentage of visits within 30 days\n",
    "percentage_within_30_days = (num_within_30_days / len(sorted_visits)) * 100\n",
    "\n",
    "# Print the percentage of visits within 30 days\n",
    "print(\"The percentage of visits in April 2022 within 30 days of the preceding visit by the same patient is:\", percentage_within_30_days, \"%\")\n"
   ]
  },
  {
   "cell_type": "code",
   "execution_count": null,
   "id": "e3d31b35",
   "metadata": {},
   "outputs": [],
   "source": []
  }
 ],
 "metadata": {
  "kernelspec": {
   "display_name": "Python 3 (ipykernel)",
   "language": "python",
   "name": "python3"
  },
  "language_info": {
   "codemirror_mode": {
    "name": "ipython",
    "version": 3
   },
   "file_extension": ".py",
   "mimetype": "text/x-python",
   "name": "python",
   "nbconvert_exporter": "python",
   "pygments_lexer": "ipython3",
   "version": "3.9.12"
  }
 },
 "nbformat": 4,
 "nbformat_minor": 5
}
